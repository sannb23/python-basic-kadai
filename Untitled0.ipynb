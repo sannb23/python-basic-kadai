{
  "nbformat": 4,
  "nbformat_minor": 0,
  "metadata": {
    "colab": {
      "provenance": []
    },
    "kernelspec": {
      "name": "python3",
      "display_name": "Python 3"
    },
    "language_info": {
      "name": "python"
    }
  },
  "cells": [
    {
      "cell_type": "code",
      "source": [
        "number1 = 10\n",
        "number2 = 20\n",
        "number3 = 5\n",
        "\n",
        "result = (number1 + number2) * number3 /2\n",
        "print(f\"{result} c㎡\")\n"
      ],
      "metadata": {
        "colab": {
          "base_uri": "https://localhost:8080/"
        },
        "id": "XRpPq1sT9pJ3",
        "outputId": "0bc916a1-6dc3-4eb4-e61d-ef974d4aa99d"
      },
      "execution_count": 11,
      "outputs": [
        {
          "output_type": "stream",
          "name": "stdout",
          "text": [
            "75.0 c㎡\n"
          ]
        }
      ]
    }
  ]
}