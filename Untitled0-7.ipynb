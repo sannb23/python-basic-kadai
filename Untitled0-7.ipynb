{
  "nbformat": 4,
  "nbformat_minor": 0,
  "metadata": {
    "colab": {
      "provenance": []
    },
    "kernelspec": {
      "name": "python3",
      "display_name": "Python 3"
    },
    "language_info": {
      "name": "python"
    }
  },
  "cells": [
    {
      "cell_type": "code",
      "source": [
        "\n",
        "def calculate_total_price(price,tax_rate):\n",
        "  tax_amount = price * (tax_rate / 100)\n",
        "  return price + tax_amount\n",
        "price = 110\n",
        "tax_rate = 10\n",
        "\n",
        "total_price = calculate_total_price(price, tax_rate)\n",
        "print(f\"{total_price:.2f}\")\n"
      ],
      "metadata": {
        "id": "X2vQlDXtZ6os",
        "colab": {
          "base_uri": "https://localhost:8080/"
        },
        "outputId": "48fb45b8-b90c-4655-9f85-3f9d6187b854"
      },
      "execution_count": null,
      "outputs": [
        {
          "output_type": "stream",
          "name": "stdout",
          "text": [
            "121.00\n"
          ]
        }
      ]
    },
    {
      "cell_type": "code",
      "source": [
        "array = [\"月曜日は晴れです\",\n",
        "         \"火曜日は雨です\",\n",
        "         \"水曜日は晴れです\",\n",
        "         \"木曜日は晴れです\",\n",
        "         \"金曜日は曇りです\",\n",
        "         \"土曜日は曇りのち雨です\",\n",
        "         \"日曜日は雷雨です\",\n",
        "         ]\n",
        "print(array[2])\n",
        "dictinary = {\n",
        "    \"mon\": \"晴れ\",\n",
        "    \"tue\": \"雨\",\n",
        "    \"wed\": \"晴れ\",\n",
        "    \"thu\": \"晴れ\",\n",
        "    \"fri\": \"曇り\",\n",
        "    \"sat\": \"曇りのち雨\",\n",
        "    \"sun\": \"雷雨\",\n",
        "    }\n",
        "print(dictinary[\"wed\"])"
      ],
      "metadata": {
        "id": "YaLMlkTaUgxv",
        "colab": {
          "base_uri": "https://localhost:8080/"
        },
        "outputId": "9ca855eb-27d2-487b-bd86-6b403bf5aaed"
      },
      "execution_count": null,
      "outputs": [
        {
          "output_type": "stream",
          "name": "stdout",
          "text": [
            "水曜日は晴れです\n",
            "晴れ\n"
          ]
        }
      ]
    },
    {
      "cell_type": "code",
      "source": [
        "erray = [\"水\",\"金\",\"地\",\"火\",\"木\",\"土\",\"天\",\"海\",\"冥\"]\n",
        "\n",
        "for index, value in enumerate(erray):\n",
        "    print(f\"{index} : {value}\")\n",
        "\n",
        "index = 0\n",
        "while index < len(erray):\n",
        "  print(f\"{index} : {erray[index]}\")\n",
        "  index += 1"
      ],
      "metadata": {
        "id": "N9xb8awWSBzM",
        "colab": {
          "base_uri": "https://localhost:8080/"
        },
        "outputId": "6f96862c-27da-4b79-cad3-e62ed1694543"
      },
      "execution_count": null,
      "outputs": [
        {
          "output_type": "stream",
          "name": "stdout",
          "text": [
            "0 : 水\n",
            "1 : 金\n",
            "2 : 地\n",
            "3 : 火\n",
            "4 : 木\n",
            "5 : 土\n",
            "6 : 天\n",
            "7 : 海\n",
            "8 : 冥\n",
            "0 : 水\n",
            "1 : 金\n",
            "2 : 地\n",
            "3 : 火\n",
            "4 : 木\n",
            "5 : 土\n",
            "6 : 天\n",
            "7 : 海\n",
            "8 : 冥\n"
          ]
        }
      ]
    },
    {
      "cell_type": "code",
      "source": [],
      "metadata": {
        "id": "7u0pnswzZ7dS"
      },
      "execution_count": null,
      "outputs": []
    },
    {
      "cell_type": "code",
      "source": [],
      "metadata": {
        "id": "D69HbXs3pErB"
      },
      "execution_count": null,
      "outputs": []
    },
    {
      "cell_type": "markdown",
      "source": [
        "# 新しいセクション"
      ],
      "metadata": {
        "id": "OG5nuf-eZ5yx"
      }
    },
    {
      "cell_type": "markdown",
      "source": [],
      "metadata": {
        "id": "jEFOX8drZzqn"
      }
    },
    {
      "cell_type": "markdown",
      "source": [],
      "metadata": {
        "id": "lSH5lqu-SPE4"
      }
    },
    {
      "cell_type": "code",
      "source": [
        "import random\n",
        "\n",
        "var = random.randint(3,15)\n",
        "print(var)\n",
        "\n",
        "if var % 3 == 0 and var % 5 == 0 :\n",
        "  print(\"FizzBuzz\")\n",
        "elif var % 3 == 0 :\n",
        "  print(\"Fizz\")\n",
        "elif var % 5 == 0 :\n",
        "  print(\"Buzz\")\n",
        "else:\n",
        "  print(var)\n",
        "\n"
      ],
      "metadata": {
        "id": "3RgKy5HzSXjQ",
        "colab": {
          "base_uri": "https://localhost:8080/"
        },
        "outputId": "e17752e5-cb48-415d-e1ea-e3bd711ba3a1"
      },
      "execution_count": null,
      "outputs": [
        {
          "output_type": "stream",
          "name": "stdout",
          "text": [
            "15\n",
            "FizzBuzz\n"
          ]
        }
      ]
    },
    {
      "cell_type": "markdown",
      "source": [
        "# 新しいセクション"
      ],
      "metadata": {
        "id": "66co5tKeR60g"
      }
    },
    {
      "cell_type": "code",
      "source": [],
      "metadata": {
        "id": "ZKe5RArORXKd"
      },
      "execution_count": null,
      "outputs": []
    },
    {
      "cell_type": "code",
      "source": [],
      "metadata": {
        "id": "pWZlzNtMX8jC"
      },
      "execution_count": null,
      "outputs": []
    },
    {
      "cell_type": "code",
      "source": [],
      "metadata": {
        "id": "XeuXGsrXYZz4"
      },
      "execution_count": null,
      "outputs": []
    },
    {
      "cell_type": "markdown",
      "source": [],
      "metadata": {
        "id": "gTkYxlhzRUQB"
      }
    },
    {
      "cell_type": "code",
      "source": [],
      "metadata": {
        "id": "XHUB4jLmRUwz"
      },
      "execution_count": null,
      "outputs": []
    },
    {
      "cell_type": "code",
      "source": [],
      "metadata": {
        "id": "D_WJetbATxuV"
      },
      "execution_count": null,
      "outputs": []
    },
    {
      "cell_type": "markdown",
      "source": [],
      "metadata": {
        "id": "AYSRVYZwTx5i"
      }
    },
    {
      "cell_type": "markdown",
      "source": [],
      "metadata": {
        "id": "xluZGB1JTyP8"
      }
    },
    {
      "cell_type": "markdown",
      "source": [],
      "metadata": {
        "id": "a728qt8VGQji"
      }
    },
    {
      "cell_type": "code",
      "source": [],
      "metadata": {
        "id": "D-RGYDVqXva7"
      },
      "execution_count": null,
      "outputs": []
    },
    {
      "cell_type": "markdown",
      "source": [],
      "metadata": {
        "id": "8udDwS8HXySe"
      }
    },
    {
      "cell_type": "code",
      "source": [],
      "metadata": {
        "id": "NszPXVmqXyI3"
      },
      "execution_count": null,
      "outputs": []
    },
    {
      "cell_type": "code",
      "source": [],
      "metadata": {
        "id": "BUTznBzKRSmS"
      },
      "execution_count": null,
      "outputs": []
    },
    {
      "cell_type": "code",
      "source": [],
      "metadata": {
        "id": "4RNIfGlvRzM6"
      },
      "execution_count": null,
      "outputs": []
    },
    {
      "cell_type": "code",
      "source": [],
      "metadata": {
        "id": "be6G3k8_Zv73"
      },
      "execution_count": null,
      "outputs": []
    },
    {
      "cell_type": "code",
      "source": [],
      "metadata": {
        "id": "0pNAe5fDpBKz"
      },
      "execution_count": null,
      "outputs": []
    }
  ]
}