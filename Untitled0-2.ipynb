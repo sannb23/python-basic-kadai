{
  "nbformat": 4,
  "nbformat_minor": 0,
  "metadata": {
    "colab": {
      "provenance": []
    },
    "kernelspec": {
      "name": "python3",
      "display_name": "Python 3"
    },
    "language_info": {
      "name": "python"
    }
  },
  "cells": [
    {
      "cell_type": "code",
      "source": [
        "array = [\"月曜日は晴れです\",\n",
        "         \"火曜日は雨です\",\n",
        "         \"水曜日は晴れです\",\n",
        "         \"木曜日は晴れです\",\n",
        "         \"金曜日は曇りです\",\n",
        "         \"土曜日は曇りのち雨です\",\n",
        "         \"日曜日は雷雨です\",\n",
        "         ]\n",
        "dictinary = {\n",
        "    \"mon\": \"晴れ\",\n",
        "    \"tue\": \"雨\",\n",
        "    \"wed\": \"晴れ\",\n",
        "    \"thu\": \"晴れ\",\n",
        "    \"fri\": \"曇り\",\n",
        "    \"sat\": \"曇りのち雨\",\n",
        "    \"sun\": \"雷雨\",\n",
        "    }\n",
        "print(dictinary[\"wed\"])"
      ],
      "metadata": {
        "id": "YaLMlkTaUgxv",
        "colab": {
          "base_uri": "https://localhost:8080/"
        },
        "outputId": "77030e55-acad-4dcf-fe2b-080a65d10b8e"
      },
      "execution_count": 8,
      "outputs": [
        {
          "output_type": "stream",
          "name": "stdout",
          "text": [
            "晴れ\n"
          ]
        }
      ]
    },
    {
      "cell_type": "code",
      "source": [],
      "metadata": {
        "id": "pWZlzNtMX8jC"
      },
      "execution_count": null,
      "outputs": []
    },
    {
      "cell_type": "code",
      "source": [],
      "metadata": {
        "id": "D_WJetbATxuV"
      },
      "execution_count": null,
      "outputs": []
    },
    {
      "cell_type": "markdown",
      "source": [],
      "metadata": {
        "id": "AYSRVYZwTx5i"
      }
    },
    {
      "cell_type": "markdown",
      "source": [],
      "metadata": {
        "id": "xluZGB1JTyP8"
      }
    },
    {
      "cell_type": "markdown",
      "source": [],
      "metadata": {
        "id": "a728qt8VGQji"
      }
    },
    {
      "cell_type": "code",
      "source": [],
      "metadata": {
        "id": "D-RGYDVqXva7"
      },
      "execution_count": null,
      "outputs": []
    },
    {
      "cell_type": "markdown",
      "source": [],
      "metadata": {
        "id": "8udDwS8HXySe"
      }
    },
    {
      "cell_type": "code",
      "source": [],
      "metadata": {
        "id": "NszPXVmqXyI3"
      },
      "execution_count": null,
      "outputs": []
    }
  ]
}